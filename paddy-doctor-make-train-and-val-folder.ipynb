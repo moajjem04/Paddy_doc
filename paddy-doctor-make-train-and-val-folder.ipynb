{
 "cells": [
  {
   "cell_type": "code",
   "execution_count": 1,
   "id": "72592182",
   "metadata": {
    "_cell_guid": "b1076dfc-b9ad-4769-8c92-a6c4dae69d19",
    "_uuid": "8f2839f25d086af736a60e9eeb907d3b93b6e0e5",
    "execution": {
     "iopub.execute_input": "2022-07-20T12:46:42.231465Z",
     "iopub.status.busy": "2022-07-20T12:46:42.230467Z",
     "iopub.status.idle": "2022-07-20T12:46:42.548383Z",
     "shell.execute_reply": "2022-07-20T12:46:42.547199Z"
    },
    "papermill": {
     "duration": 0.326657,
     "end_time": "2022-07-20T12:46:42.550612",
     "exception": false,
     "start_time": "2022-07-20T12:46:42.223955",
     "status": "completed"
    },
    "tags": []
   },
   "outputs": [
    {
     "name": "stdout",
     "output_type": "stream",
     "text": [
      "/kaggle/input/paddy-disease-classification/sample_submission.csv\n",
      "/kaggle/input/paddy-disease-classification/train.csv\n",
      "/kaggle/input/paddy-disease-classification/train_images/tungro/109629.jpg\n",
      "/kaggle/input/paddy-disease-classification/train_images/tungro/104765.jpg\n",
      "/kaggle/input/paddy-disease-classification/train_images/tungro/109706.jpg\n"
     ]
    }
   ],
   "source": [
    "# This Python 3 environment comes with many helpful analytics libraries installed\n",
    "# It is defined by the kaggle/python Docker image: https://github.com/kaggle/docker-python\n",
    "# For example, here's several helpful packages to load\n",
    "\n",
    "import numpy as np # linear algebra\n",
    "import pandas as pd # data processing, CSV file I/O (e.g. pd.read_csv)\n",
    "\n",
    "# Input data files are available in the read-only \"../input/\" directory\n",
    "# For example, running this (by clicking run or pressing Shift+Enter) will list all files under the input directory\n",
    "\n",
    "import os\n",
    "count = 0\n",
    "for dirname, _, filenames in os.walk('/kaggle/input'):\n",
    "    for filename in filenames:\n",
    "        print(os.path.join(dirname, filename))\n",
    "        count += 1\n",
    "        \n",
    "        if count == 5:\n",
    "            break\n",
    "    if count == 5:\n",
    "        break\n",
    "\n",
    "# You can write up to 20GB to the current directory (/kaggle/working/) that gets preserved as output when you create a version using \"Save & Run All\" \n",
    "# You can also write temporary files to /kaggle/temp/, but they won't be saved outside of the current session"
   ]
  },
  {
   "cell_type": "code",
   "execution_count": 2,
   "id": "0038f72d",
   "metadata": {
    "execution": {
     "iopub.execute_input": "2022-07-20T12:46:42.562492Z",
     "iopub.status.busy": "2022-07-20T12:46:42.560794Z",
     "iopub.status.idle": "2022-07-20T12:46:42.606503Z",
     "shell.execute_reply": "2022-07-20T12:46:42.605359Z"
    },
    "papermill": {
     "duration": 0.055337,
     "end_time": "2022-07-20T12:46:42.610085",
     "exception": false,
     "start_time": "2022-07-20T12:46:42.554748",
     "status": "completed"
    },
    "tags": []
   },
   "outputs": [
    {
     "data": {
      "text/plain": [
       "(     image_id                  label variety  age\n",
       " 0  100330.jpg  bacterial_leaf_blight   ADT45   45\n",
       " 1  100365.jpg  bacterial_leaf_blight   ADT45   45\n",
       " 2  100382.jpg  bacterial_leaf_blight   ADT45   45\n",
       " 3  100632.jpg  bacterial_leaf_blight   ADT45   45\n",
       " 4  101918.jpg  bacterial_leaf_blight   ADT45   45,\n",
       " (10407, 4))"
      ]
     },
     "execution_count": 2,
     "metadata": {},
     "output_type": "execute_result"
    }
   ],
   "source": [
    "train_val_df = pd.read_csv('../input/paddy-disease-classification/train.csv')\n",
    "train_val_df.head(), train_val_df.shape"
   ]
  },
  {
   "cell_type": "code",
   "execution_count": 3,
   "id": "98da5363",
   "metadata": {
    "execution": {
     "iopub.execute_input": "2022-07-20T12:46:42.624302Z",
     "iopub.status.busy": "2022-07-20T12:46:42.623517Z",
     "iopub.status.idle": "2022-07-20T12:46:43.690635Z",
     "shell.execute_reply": "2022-07-20T12:46:43.689540Z"
    },
    "papermill": {
     "duration": 1.077429,
     "end_time": "2022-07-20T12:46:43.693352",
     "exception": false,
     "start_time": "2022-07-20T12:46:42.615923",
     "status": "completed"
    },
    "tags": []
   },
   "outputs": [],
   "source": [
    "from sklearn.model_selection import train_test_split"
   ]
  },
  {
   "cell_type": "code",
   "execution_count": 4,
   "id": "c03aa087",
   "metadata": {
    "execution": {
     "iopub.execute_input": "2022-07-20T12:46:43.703338Z",
     "iopub.status.busy": "2022-07-20T12:46:43.702482Z",
     "iopub.status.idle": "2022-07-20T12:46:43.714545Z",
     "shell.execute_reply": "2022-07-20T12:46:43.713502Z"
    },
    "papermill": {
     "duration": 0.019564,
     "end_time": "2022-07-20T12:46:43.716876",
     "exception": false,
     "start_time": "2022-07-20T12:46:43.697312",
     "status": "completed"
    },
    "tags": []
   },
   "outputs": [
    {
     "data": {
      "text/plain": [
       "0    bacterial_leaf_blight\n",
       "1    bacterial_leaf_blight\n",
       "2    bacterial_leaf_blight\n",
       "3    bacterial_leaf_blight\n",
       "4    bacterial_leaf_blight\n",
       "Name: label, dtype: object"
      ]
     },
     "execution_count": 4,
     "metadata": {},
     "output_type": "execute_result"
    }
   ],
   "source": [
    "train_val_df['label'].head()"
   ]
  },
  {
   "cell_type": "code",
   "execution_count": 5,
   "id": "c973368c",
   "metadata": {
    "execution": {
     "iopub.execute_input": "2022-07-20T12:46:43.726543Z",
     "iopub.status.busy": "2022-07-20T12:46:43.726158Z",
     "iopub.status.idle": "2022-07-20T12:46:43.748334Z",
     "shell.execute_reply": "2022-07-20T12:46:43.747168Z"
    },
    "papermill": {
     "duration": 0.02952,
     "end_time": "2022-07-20T12:46:43.750421",
     "exception": false,
     "start_time": "2022-07-20T12:46:43.720901",
     "status": "completed"
    },
    "tags": []
   },
   "outputs": [
    {
     "data": {
      "text/plain": [
       "(7805, 2602)"
      ]
     },
     "execution_count": 5,
     "metadata": {},
     "output_type": "execute_result"
    }
   ],
   "source": [
    "train_df, val_df = train_test_split(train_val_df, random_state= 42, stratify = train_val_df['label'])\n",
    "len(train_df), len(val_df)"
   ]
  },
  {
   "cell_type": "code",
   "execution_count": 6,
   "id": "7ccff440",
   "metadata": {
    "execution": {
     "iopub.execute_input": "2022-07-20T12:46:43.760179Z",
     "iopub.status.busy": "2022-07-20T12:46:43.759779Z",
     "iopub.status.idle": "2022-07-20T12:46:43.771279Z",
     "shell.execute_reply": "2022-07-20T12:46:43.770223Z"
    },
    "papermill": {
     "duration": 0.018965,
     "end_time": "2022-07-20T12:46:43.773435",
     "exception": false,
     "start_time": "2022-07-20T12:46:43.754470",
     "status": "completed"
    },
    "tags": []
   },
   "outputs": [
    {
     "data": {
      "text/plain": [
       "(        image_id                  label         variety  age\n",
       " 238   104430.jpg  bacterial_leaf_blight           ADT45   68\n",
       " 9311  106152.jpg                 normal              RR   70\n",
       " 7750  102422.jpg                 normal           ADT45   57\n",
       " 7433  106739.jpg                  hispa        Onthanel   70\n",
       " 2241  100909.jpg                  blast  KarnatakaPonni   75,\n",
       "          image_id         label         variety  age\n",
       " 7797   100082.jpg        normal           ADT45   60\n",
       " 10198  102042.jpg        tungro           ADT45   72\n",
       " 3340   100692.jpg    brown_spot           ADT45   70\n",
       " 6652   105030.jpg         hispa           ADT45   70\n",
       " 5834   106640.jpg  downy_mildew  KarnatakaPonni   70)"
      ]
     },
     "execution_count": 6,
     "metadata": {},
     "output_type": "execute_result"
    }
   ],
   "source": [
    "train_df.head(), val_df.head()"
   ]
  },
  {
   "cell_type": "code",
   "execution_count": 7,
   "id": "c78c9a0c",
   "metadata": {
    "execution": {
     "iopub.execute_input": "2022-07-20T12:46:43.783194Z",
     "iopub.status.busy": "2022-07-20T12:46:43.782581Z",
     "iopub.status.idle": "2022-07-20T12:46:44.027458Z",
     "shell.execute_reply": "2022-07-20T12:46:44.026324Z"
    },
    "papermill": {
     "duration": 0.252837,
     "end_time": "2022-07-20T12:46:44.030339",
     "exception": false,
     "start_time": "2022-07-20T12:46:43.777502",
     "status": "completed"
    },
    "tags": []
   },
   "outputs": [
    {
     "data": {
      "text/plain": [
       "<AxesSubplot:>"
      ]
     },
     "execution_count": 7,
     "metadata": {},
     "output_type": "execute_result"
    },
    {
     "data": {
      "image/png": "[encoded data removed]",
      "text/plain": [
       "<Figure size 432x288 with 1 Axes>"
      ]
     },
     "metadata": {
      "needs_background": "light"
     },
     "output_type": "display_data"
    }
   ],
   "source": [
    "train_df['label'].value_counts().plot(kind='barh')"
   ]
  },
  {
   "cell_type": "code",
   "execution_count": 8,
   "id": "50f72b97",
   "metadata": {
    "execution": {
     "iopub.execute_input": "2022-07-20T12:46:44.041033Z",
     "iopub.status.busy": "2022-07-20T12:46:44.040619Z",
     "iopub.status.idle": "2022-07-20T12:46:44.244650Z",
     "shell.execute_reply": "2022-07-20T12:46:44.243317Z"
    },
    "papermill": {
     "duration": 0.212443,
     "end_time": "2022-07-20T12:46:44.247303",
     "exception": false,
     "start_time": "2022-07-20T12:46:44.034860",
     "status": "completed"
    },
    "tags": []
   },
   "outputs": [
    {
     "data": {
      "text/plain": [
       "<AxesSubplot:>"
      ]
     },
     "execution_count": 8,
     "metadata": {},
     "output_type": "execute_result"
    },
    {
     "data": {
      "image/png": "[encoded data removed]",
      "text/plain": [
       "<Figure size 432x288 with 1 Axes>"
      ]
     },
     "metadata": {
      "needs_background": "light"
     },
     "output_type": "display_data"
    }
   ],
   "source": [
    "val_df['label'].value_counts().plot(kind='barh')"
   ]
  },
  {
   "cell_type": "code",
   "execution_count": 9,
   "id": "b0beacc8",
   "metadata": {
    "execution": {
     "iopub.execute_input": "2022-07-20T12:46:44.259023Z",
     "iopub.status.busy": "2022-07-20T12:46:44.258017Z",
     "iopub.status.idle": "2022-07-20T12:46:44.263622Z",
     "shell.execute_reply": "2022-07-20T12:46:44.262660Z"
    },
    "papermill": {
     "duration": 0.013707,
     "end_time": "2022-07-20T12:46:44.265812",
     "exception": false,
     "start_time": "2022-07-20T12:46:44.252105",
     "status": "completed"
    },
    "tags": []
   },
   "outputs": [],
   "source": [
    "train_dir = 'Train'\n",
    "val_dir = 'Val'\n",
    "main_dir = '../input/paddy-disease-classification/train_images'\n",
    "os.makedirs(train_dir, exist_ok = True)\n",
    "os.makedirs(val_dir, exist_ok = True)"
   ]
  },
  {
   "cell_type": "code",
   "execution_count": 10,
   "id": "e7c71671",
   "metadata": {
    "execution": {
     "iopub.execute_input": "2022-07-20T12:46:44.276587Z",
     "iopub.status.busy": "2022-07-20T12:46:44.276219Z",
     "iopub.status.idle": "2022-07-20T12:46:44.384474Z",
     "shell.execute_reply": "2022-07-20T12:46:44.383272Z"
    },
    "papermill": {
     "duration": 0.116372,
     "end_time": "2022-07-20T12:46:44.386868",
     "exception": false,
     "start_time": "2022-07-20T12:46:44.270496",
     "status": "completed"
    },
    "tags": []
   },
   "outputs": [],
   "source": [
    "import shutil\n",
    "from tqdm.notebook import tqdm"
   ]
  },
  {
   "cell_type": "code",
   "execution_count": 11,
   "id": "77f6673f",
   "metadata": {
    "execution": {
     "iopub.execute_input": "2022-07-20T12:46:44.398013Z",
     "iopub.status.busy": "2022-07-20T12:46:44.397598Z",
     "iopub.status.idle": "2022-07-20T12:47:06.814610Z",
     "shell.execute_reply": "2022-07-20T12:47:06.813415Z"
    },
    "papermill": {
     "duration": 22.425199,
     "end_time": "2022-07-20T12:47:06.816856",
     "exception": false,
     "start_time": "2022-07-20T12:46:44.391657",
     "status": "completed"
    },
    "tags": []
   },
   "outputs": [
    {
     "data": {
      "application/vnd.jupyter.widget-view+json": {
       "model_id": "bafc2023c5e34d1885ab626a3f83b389",
       "version_major": 2,
       "version_minor": 0
      },
      "text/plain": [
       "  0%|          | 0/2602 [00:00<?, ?it/s]"
      ]
     },
     "metadata": {},
     "output_type": "display_data"
    }
   ],
   "source": [
    "for i in tqdm(range(len(val_df))):\n",
    "    img_name, label= val_df.iloc[i,0], val_df.iloc[i,1]\n",
    "    src_file = os.path.join(main_dir, label, img_name)\n",
    "    des_file = os.path.join(val_dir, label, img_name)\n",
    "    \n",
    "    assert os.path.exists(src_file), f\"{img_name}\"\n",
    "    os.makedirs(os.path.join(val_dir, label), exist_ok = True)\n",
    "    \n",
    "    shutil.copy(src_file, des_file)    \n",
    "    \n",
    "    #break"
   ]
  },
  {
   "cell_type": "code",
   "execution_count": 12,
   "id": "0f53ace0",
   "metadata": {
    "execution": {
     "iopub.execute_input": "2022-07-20T12:47:06.829199Z",
     "iopub.status.busy": "2022-07-20T12:47:06.828815Z",
     "iopub.status.idle": "2022-07-20T12:47:07.642808Z",
     "shell.execute_reply": "2022-07-20T12:47:07.641529Z"
    },
    "papermill": {
     "duration": 0.823107,
     "end_time": "2022-07-20T12:47:07.645534",
     "exception": false,
     "start_time": "2022-07-20T12:47:06.822427",
     "status": "completed"
    },
    "tags": []
   },
   "outputs": [
    {
     "name": "stdout",
     "output_type": "stream",
     "text": [
      "2602\r\n"
     ]
    }
   ],
   "source": [
    "!find Val -type f | wc -l"
   ]
  },
  {
   "cell_type": "code",
   "execution_count": 13,
   "id": "3bf16653",
   "metadata": {
    "execution": {
     "iopub.execute_input": "2022-07-20T12:47:07.658334Z",
     "iopub.status.busy": "2022-07-20T12:47:07.657468Z",
     "iopub.status.idle": "2022-07-20T12:48:11.108736Z",
     "shell.execute_reply": "2022-07-20T12:48:11.107678Z"
    },
    "papermill": {
     "duration": 63.460397,
     "end_time": "2022-07-20T12:48:11.110962",
     "exception": false,
     "start_time": "2022-07-20T12:47:07.650565",
     "status": "completed"
    },
    "tags": []
   },
   "outputs": [
    {
     "data": {
      "application/vnd.jupyter.widget-view+json": {
       "model_id": "a31bd4ab94a6454582022daf962364bb",
       "version_major": 2,
       "version_minor": 0
      },
      "text/plain": [
       "  0%|          | 0/7805 [00:00<?, ?it/s]"
      ]
     },
     "metadata": {},
     "output_type": "display_data"
    }
   ],
   "source": [
    "for i in tqdm(range(len(train_df))):\n",
    "    img_name, label= train_df.iloc[i,0], train_df.iloc[i,1]\n",
    "    src_file = os.path.join(main_dir, label, img_name)\n",
    "    des_file = os.path.join(train_dir, label, img_name)\n",
    "    \n",
    "    assert os.path.exists(src_file), f\"{img_name}\"\n",
    "    os.makedirs(os.path.join(train_dir, label), exist_ok = True)\n",
    "    \n",
    "    shutil.copy(src_file, des_file)    \n",
    "    \n",
    "    #break"
   ]
  },
  {
   "cell_type": "code",
   "execution_count": 14,
   "id": "26f1883c",
   "metadata": {
    "execution": {
     "iopub.execute_input": "2022-07-20T12:48:11.123948Z",
     "iopub.status.busy": "2022-07-20T12:48:11.122787Z",
     "iopub.status.idle": "2022-07-20T12:48:11.924005Z",
     "shell.execute_reply": "2022-07-20T12:48:11.922583Z"
    },
    "papermill": {
     "duration": 0.810603,
     "end_time": "2022-07-20T12:48:11.926754",
     "exception": false,
     "start_time": "2022-07-20T12:48:11.116151",
     "status": "completed"
    },
    "tags": []
   },
   "outputs": [
    {
     "name": "stdout",
     "output_type": "stream",
     "text": [
      "7805\r\n"
     ]
    }
   ],
   "source": [
    "!find Train -type f | wc -l"
   ]
  }
 ],
 "metadata": {
  "kernelspec": {
   "display_name": "Python 3",
   "language": "python",
   "name": "python3"
  },
  "language_info": {
   "codemirror_mode": {
    "name": "ipython",
    "version": 3
   },
   "file_extension": ".py",
   "mimetype": "text/x-python",
   "name": "python",
   "nbconvert_exporter": "python",
   "pygments_lexer": "ipython3",
   "version": "3.7.12"
  },
  "papermill": {
   "default_parameters": {},
   "duration": 99.116912,
   "end_time": "2022-07-20T12:48:12.757185",
   "environment_variables": {},
   "exception": null,
   "input_path": "__notebook__.ipynb",
   "output_path": "__notebook__.ipynb",
   "parameters": {},
   "start_time": "2022-07-20T12:46:33.640273",
   "version": "2.3.4"
  },
  "widgets": {
   "application/vnd.jupyter.widget-state+json": {
    "state": {
     "009bcbd9fa094abea127c635625bee92": {
      "model_module": "@jupyter-widgets/controls",
      "model_module_version": "1.5.0",
      "model_name": "ProgressStyleModel",
      "state": {
       "_model_module": "@jupyter-widgets/controls",
       "_model_module_version": "1.5.0",
       "_model_name": "ProgressStyleModel",
       "_view_count": null,
       "_view_module": "@jupyter-widgets/base",
       "_view_module_version": "1.2.0",
       "_view_name": "StyleView",
       "bar_color": null,
       "description_width": ""
      }
     },
     "01311132e46b4f8e8f54c30d1a361a1e": {
      "model_module": "@jupyter-widgets/controls",
      "model_module_version": "1.5.0",
      "model_name": "HTMLModel",
      "state": {
       "_dom_classes": [],
       "_model_module": "@jupyter-widgets/controls",
       "_model_module_version": "1.5.0",
       "_model_name": "HTMLModel",
       "_view_count": null,
       "_view_module": "@jupyter-widgets/controls",
       "_view_module_version": "1.5.0",
       "_view_name": "HTMLView",
       "description": "",
       "description_tooltip": null,
       "layout": "IPY_MODEL_fd7edc02afcc4f5fbeab7ba69d27fea6",
       "placeholder": "​",
       "style": "IPY_MODEL_6f18c4af04db4041a6766205a775aa59",
       "value": "100%"
      }
     },
     "286595cd7133401b99a3fccfa4c5c3ad": {
      "model_module": "@jupyter-widgets/base",
      "model_module_version": "1.2.0",
      "model_name": "LayoutModel",
      "state": {
       "_model_module": "@jupyter-widgets/base",
       "_model_module_version": "1.2.0",
       "_model_name": "LayoutModel",
       "_view_count": null,
       "_view_module": "@jupyter-widgets/base",
       "_view_module_version": "1.2.0",
       "_view_name": "LayoutView",
       "align_content": null,
       "align_items": null,
       "align_self": null,
       "border": null,
       "bottom": null,
       "display": null,
       "flex": null,
       "flex_flow": null,
       "grid_area": null,
       "grid_auto_columns": null,
       "grid_auto_flow": null,
       "grid_auto_rows": null,
       "grid_column": null,
       "grid_gap": null,
       "grid_row": null,
       "grid_template_areas": null,
       "grid_template_columns": null,
       "grid_template_rows": null,
       "height": null,
       "justify_content": null,
       "justify_items": null,
       "left": null,
       "margin": null,
       "max_height": null,
       "max_width": null,
       "min_height": null,
       "min_width": null,
       "object_fit": null,
       "object_position": null,
       "order": null,
       "overflow": null,
       "overflow_x": null,
       "overflow_y": null,
       "padding": null,
       "right": null,
       "top": null,
       "visibility": null,
       "width": null
      }
     },
     "354d55c8a9984f80ad722c28a28f3bfe": {
      "model_module": "@jupyter-widgets/controls",
      "model_module_version": "1.5.0",
      "model_name": "FloatProgressModel",
      "state": {
       "_dom_classes": [],
       "_model_module": "@jupyter-widgets/controls",
       "_model_module_version": "1.5.0",
       "_model_name": "FloatProgressModel",
       "_view_count": null,
       "_view_module": "@jupyter-widgets/controls",
       "_view_module_version": "1.5.0",
       "_view_name": "ProgressView",
       "bar_style": "success",
       "description": "",
       "description_tooltip": null,
       "layout": "IPY_MODEL_b91e6af93300461884d9b966e154011d",
       "max": 2602.0,
       "min": 0.0,
       "orientation": "horizontal",
       "style": "IPY_MODEL_009bcbd9fa094abea127c635625bee92",
       "value": 2602.0
      }
     },
     "4e8cd4c0287b4ed0add96629f78f3e60": {
      "model_module": "@jupyter-widgets/controls",
      "model_module_version": "1.5.0",
      "model_name": "DescriptionStyleModel",
      "state": {
       "_model_module": "@jupyter-widgets/controls",
       "_model_module_version": "1.5.0",
       "_model_name": "DescriptionStyleModel",
       "_view_count": null,
       "_view_module": "@jupyter-widgets/base",
       "_view_module_version": "1.2.0",
       "_view_name": "StyleView",
       "description_width": ""
      }
     },
     "5d89ff73e92b43d8ade07870b3e8c494": {
      "model_module": "@jupyter-widgets/controls",
      "model_module_version": "1.5.0",
      "model_name": "HTMLModel",
      "state": {
       "_dom_classes": [],
       "_model_module": "@jupyter-widgets/controls",
       "_model_module_version": "1.5.0",
       "_model_name": "HTMLModel",
       "_view_count": null,
       "_view_module": "@jupyter-widgets/controls",
       "_view_module_version": "1.5.0",
       "_view_name": "HTMLView",
       "description": "",
       "description_tooltip": null,
       "layout": "IPY_MODEL_f574270f49304069a3347b8576a2bb5b",
       "placeholder": "​",
       "style": "IPY_MODEL_6241f2f6ecbd4089bdfadbd7513f6234",
       "value": " 7805/7805 [01:03&lt;00:00, 119.87it/s]"
      }
     },
     "5ebb8ff406494ab49988a0b5e3f54cf8": {
      "model_module": "@jupyter-widgets/base",
      "model_module_version": "1.2.0",
      "model_name": "LayoutModel",
      "state": {
       "_model_module": "@jupyter-widgets/base",
       "_model_module_version": "1.2.0",
       "_model_name": "LayoutModel",
       "_view_count": null,
       "_view_module": "@jupyter-widgets/base",
       "_view_module_version": "1.2.0",
       "_view_name": "LayoutView",
       "align_content": null,
       "align_items": null,
       "align_self": null,
       "border": null,
       "bottom": null,
       "display": null,
       "flex": null,
       "flex_flow": null,
       "grid_area": null,
       "grid_auto_columns": null,
       "grid_auto_flow": null,
       "grid_auto_rows": null,
       "grid_column": null,
       "grid_gap": null,
       "grid_row": null,
       "grid_template_areas": null,
       "grid_template_columns": null,
       "grid_template_rows": null,
       "height": null,
       "justify_content": null,
       "justify_items": null,
       "left": null,
       "margin": null,
       "max_height": null,
       "max_width": null,
       "min_height": null,
       "min_width": null,
       "object_fit": null,
       "object_position": null,
       "order": null,
       "overflow": null,
       "overflow_x": null,
       "overflow_y": null,
       "padding": null,
       "right": null,
       "top": null,
       "visibility": null,
       "width": null
      }
     },
     "6241f2f6ecbd4089bdfadbd7513f6234": {
      "model_module": "@jupyter-widgets/controls",
      "model_module_version": "1.5.0",
      "model_name": "DescriptionStyleModel",
      "state": {
       "_model_module": "@jupyter-widgets/controls",
       "_model_module_version": "1.5.0",
       "_model_name": "DescriptionStyleModel",
       "_view_count": null,
       "_view_module": "@jupyter-widgets/base",
       "_view_module_version": "1.2.0",
       "_view_name": "StyleView",
       "description_width": ""
      }
     },
     "6f18c4af04db4041a6766205a775aa59": {
      "model_module": "@jupyter-widgets/controls",
      "model_module_version": "1.5.0",
      "model_name": "DescriptionStyleModel",
      "state": {
       "_model_module": "@jupyter-widgets/controls",
       "_model_module_version": "1.5.0",
       "_model_name": "DescriptionStyleModel",
       "_view_count": null,
       "_view_module": "@jupyter-widgets/base",
       "_view_module_version": "1.2.0",
       "_view_name": "StyleView",
       "description_width": ""
      }
     },
     "77c7bbf9d0dd4df3a990e80025774bc9": {
      "model_module": "@jupyter-widgets/base",
      "model_module_version": "1.2.0",
      "model_name": "LayoutModel",
      "state": {
       "_model_module": "@jupyter-widgets/base",
       "_model_module_version": "1.2.0",
       "_model_name": "LayoutModel",
       "_view_count": null,
       "_view_module": "@jupyter-widgets/base",
       "_view_module_version": "1.2.0",
       "_view_name": "LayoutView",
       "align_content": null,
       "align_items": null,
       "align_self": null,
       "border": null,
       "bottom": null,
       "display": null,
       "flex": null,
       "flex_flow": null,
       "grid_area": null,
       "grid_auto_columns": null,
       "grid_auto_flow": null,
       "grid_auto_rows": null,
       "grid_column": null,
       "grid_gap": null,
       "grid_row": null,
       "grid_template_areas": null,
       "grid_template_columns": null,
       "grid_template_rows": null,
       "height": null,
       "justify_content": null,
       "justify_items": null,
       "left": null,
       "margin": null,
       "max_height": null,
       "max_width": null,
       "min_height": null,
       "min_width": null,
       "object_fit": null,
       "object_position": null,
       "order": null,
       "overflow": null,
       "overflow_x": null,
       "overflow_y": null,
       "padding": null,
       "right": null,
       "top": null,
       "visibility": null,
       "width": null
      }
     },
     "84865e1dbb3e43619d1190f0e169d621": {
      "model_module": "@jupyter-widgets/controls",
      "model_module_version": "1.5.0",
      "model_name": "HTMLModel",
      "state": {
       "_dom_classes": [],
       "_model_module": "@jupyter-widgets/controls",
       "_model_module_version": "1.5.0",
       "_model_name": "HTMLModel",
       "_view_count": null,
       "_view_module": "@jupyter-widgets/controls",
       "_view_module_version": "1.5.0",
       "_view_name": "HTMLView",
       "description": "",
       "description_tooltip": null,
       "layout": "IPY_MODEL_5ebb8ff406494ab49988a0b5e3f54cf8",
       "placeholder": "​",
       "style": "IPY_MODEL_4e8cd4c0287b4ed0add96629f78f3e60",
       "value": " 2602/2602 [00:22&lt;00:00, 115.01it/s]"
      }
     },
     "8bbcdc15638449809d1640c4b48d5243": {
      "model_module": "@jupyter-widgets/controls",
      "model_module_version": "1.5.0",
      "model_name": "DescriptionStyleModel",
      "state": {
       "_model_module": "@jupyter-widgets/controls",
       "_model_module_version": "1.5.0",
       "_model_name": "DescriptionStyleModel",
       "_view_count": null,
       "_view_module": "@jupyter-widgets/base",
       "_view_module_version": "1.2.0",
       "_view_name": "StyleView",
       "description_width": ""
      }
     },
     "a31bd4ab94a6454582022daf962364bb": {
      "model_module": "@jupyter-widgets/controls",
      "model_module_version": "1.5.0",
      "model_name": "HBoxModel",
      "state": {
       "_dom_classes": [],
       "_model_module": "@jupyter-widgets/controls",
       "_model_module_version": "1.5.0",
       "_model_name": "HBoxModel",
       "_view_count": null,
       "_view_module": "@jupyter-widgets/controls",
       "_view_module_version": "1.5.0",
       "_view_name": "HBoxView",
       "box_style": "",
       "children": [
        "IPY_MODEL_01311132e46b4f8e8f54c30d1a361a1e",
        "IPY_MODEL_af7f820c0df646d388e9fb0f257f6a73",
        "IPY_MODEL_5d89ff73e92b43d8ade07870b3e8c494"
       ],
       "layout": "IPY_MODEL_a3c2eb2721c4409fbbb729a4a27d0609"
      }
     },
     "a3c2eb2721c4409fbbb729a4a27d0609": {
      "model_module": "@jupyter-widgets/base",
      "model_module_version": "1.2.0",
      "model_name": "LayoutModel",
      "state": {
       "_model_module": "@jupyter-widgets/base",
       "_model_module_version": "1.2.0",
       "_model_name": "LayoutModel",
       "_view_count": null,
       "_view_module": "@jupyter-widgets/base",
       "_view_module_version": "1.2.0",
       "_view_name": "LayoutView",
       "align_content": null,
       "align_items": null,
       "align_self": null,
       "border": null,
       "bottom": null,
       "display": null,
       "flex": null,
       "flex_flow": null,
       "grid_area": null,
       "grid_auto_columns": null,
       "grid_auto_flow": null,
       "grid_auto_rows": null,
       "grid_column": null,
       "grid_gap": null,
       "grid_row": null,
       "grid_template_areas": null,
       "grid_template_columns": null,
       "grid_template_rows": null,
       "height": null,
       "justify_content": null,
       "justify_items": null,
       "left": null,
       "margin": null,
       "max_height": null,
       "max_width": null,
       "min_height": null,
       "min_width": null,
       "object_fit": null,
       "object_position": null,
       "order": null,
       "overflow": null,
       "overflow_x": null,
       "overflow_y": null,
       "padding": null,
       "right": null,
       "top": null,
       "visibility": null,
       "width": null
      }
     },
     "af7f820c0df646d388e9fb0f257f6a73": {
      "model_module": "@jupyter-widgets/controls",
      "model_module_version": "1.5.0",
      "model_name": "FloatProgressModel",
      "state": {
       "_dom_classes": [],
       "_model_module": "@jupyter-widgets/controls",
       "_model_module_version": "1.5.0",
       "_model_name": "FloatProgressModel",
       "_view_count": null,
       "_view_module": "@jupyter-widgets/controls",
       "_view_module_version": "1.5.0",
       "_view_name": "ProgressView",
       "bar_style": "success",
       "description": "",
       "description_tooltip": null,
       "layout": "IPY_MODEL_cb58e27273494e1590b63b0798644b67",
       "max": 7805.0,
       "min": 0.0,
       "orientation": "horizontal",
       "style": "IPY_MODEL_e6421006982144a3b9fad465d467893a",
       "value": 7805.0
      }
     },
     "b91e6af93300461884d9b966e154011d": {
      "model_module": "@jupyter-widgets/base",
      "model_module_version": "1.2.0",
      "model_name": "LayoutModel",
      "state": {
       "_model_module": "@jupyter-widgets/base",
       "_model_module_version": "1.2.0",
       "_model_name": "LayoutModel",
       "_view_count": null,
       "_view_module": "@jupyter-widgets/base",
       "_view_module_version": "1.2.0",
       "_view_name": "LayoutView",
       "align_content": null,
       "align_items": null,
       "align_self": null,
       "border": null,
       "bottom": null,
       "display": null,
       "flex": null,
       "flex_flow": null,
       "grid_area": null,
       "grid_auto_columns": null,
       "grid_auto_flow": null,
       "grid_auto_rows": null,
       "grid_column": null,
       "grid_gap": null,
       "grid_row": null,
       "grid_template_areas": null,
       "grid_template_columns": null,
       "grid_template_rows": null,
       "height": null,
       "justify_content": null,
       "justify_items": null,
       "left": null,
       "margin": null,
       "max_height": null,
       "max_width": null,
       "min_height": null,
       "min_width": null,
       "object_fit": null,
       "object_position": null,
       "order": null,
       "overflow": null,
       "overflow_x": null,
       "overflow_y": null,
       "padding": null,
       "right": null,
       "top": null,
       "visibility": null,
       "width": null
      }
     },
     "bafc2023c5e34d1885ab626a3f83b389": {
      "model_module": "@jupyter-widgets/controls",
      "model_module_version": "1.5.0",
      "model_name": "HBoxModel",
      "state": {
       "_dom_classes": [],
       "_model_module": "@jupyter-widgets/controls",
       "_model_module_version": "1.5.0",
       "_model_name": "HBoxModel",
       "_view_count": null,
       "_view_module": "@jupyter-widgets/controls",
       "_view_module_version": "1.5.0",
       "_view_name": "HBoxView",
       "box_style": "",
       "children": [
        "IPY_MODEL_cfd296f9335647f9ac357f7cb6de8c18",
        "IPY_MODEL_354d55c8a9984f80ad722c28a28f3bfe",
        "IPY_MODEL_84865e1dbb3e43619d1190f0e169d621"
       ],
       "layout": "IPY_MODEL_286595cd7133401b99a3fccfa4c5c3ad"
      }
     },
     "cb58e27273494e1590b63b0798644b67": {
      "model_module": "@jupyter-widgets/base",
      "model_module_version": "1.2.0",
      "model_name": "LayoutModel",
      "state": {
       "_model_module": "@jupyter-widgets/base",
       "_model_module_version": "1.2.0",
       "_model_name": "LayoutModel",
       "_view_count": null,
       "_view_module": "@jupyter-widgets/base",
       "_view_module_version": "1.2.0",
       "_view_name": "LayoutView",
       "align_content": null,
       "align_items": null,
       "align_self": null,
       "border": null,
       "bottom": null,
       "display": null,
       "flex": null,
       "flex_flow": null,
       "grid_area": null,
       "grid_auto_columns": null,
       "grid_auto_flow": null,
       "grid_auto_rows": null,
       "grid_column": null,
       "grid_gap": null,
       "grid_row": null,
       "grid_template_areas": null,
       "grid_template_columns": null,
       "grid_template_rows": null,
       "height": null,
       "justify_content": null,
       "justify_items": null,
       "left": null,
       "margin": null,
       "max_height": null,
       "max_width": null,
       "min_height": null,
       "min_width": null,
       "object_fit": null,
       "object_position": null,
       "order": null,
       "overflow": null,
       "overflow_x": null,
       "overflow_y": null,
       "padding": null,
       "right": null,
       "top": null,
       "visibility": null,
       "width": null
      }
     },
     "cfd296f9335647f9ac357f7cb6de8c18": {
      "model_module": "@jupyter-widgets/controls",
      "model_module_version": "1.5.0",
      "model_name": "HTMLModel",
      "state": {
       "_dom_classes": [],
       "_model_module": "@jupyter-widgets/controls",
       "_model_module_version": "1.5.0",
       "_model_name": "HTMLModel",
       "_view_count": null,
       "_view_module": "@jupyter-widgets/controls",
       "_view_module_version": "1.5.0",
       "_view_name": "HTMLView",
       "description": "",
       "description_tooltip": null,
       "layout": "IPY_MODEL_77c7bbf9d0dd4df3a990e80025774bc9",
       "placeholder": "​",
       "style": "IPY_MODEL_8bbcdc15638449809d1640c4b48d5243",
       "value": "100%"
      }
     },
     "e6421006982144a3b9fad465d467893a": {
      "model_module": "@jupyter-widgets/controls",
      "model_module_version": "1.5.0",
      "model_name": "ProgressStyleModel",
      "state": {
       "_model_module": "@jupyter-widgets/controls",
       "_model_module_version": "1.5.0",
       "_model_name": "ProgressStyleModel",
       "_view_count": null,
       "_view_module": "@jupyter-widgets/base",
       "_view_module_version": "1.2.0",
       "_view_name": "StyleView",
       "bar_color": null,
       "description_width": ""
      }
     },
     "f574270f49304069a3347b8576a2bb5b": {
      "model_module": "@jupyter-widgets/base",
      "model_module_version": "1.2.0",
      "model_name": "LayoutModel",
      "state": {
       "_model_module": "@jupyter-widgets/base",
       "_model_module_version": "1.2.0",
       "_model_name": "LayoutModel",
       "_view_count": null,
       "_view_module": "@jupyter-widgets/base",
       "_view_module_version": "1.2.0",
       "_view_name": "LayoutView",
       "align_content": null,
       "align_items": null,
       "align_self": null,
       "border": null,
       "bottom": null,
       "display": null,
       "flex": null,
       "flex_flow": null,
       "grid_area": null,
       "grid_auto_columns": null,
       "grid_auto_flow": null,
       "grid_auto_rows": null,
       "grid_column": null,
       "grid_gap": null,
       "grid_row": null,
       "grid_template_areas": null,
       "grid_template_columns": null,
       "grid_template_rows": null,
       "height": null,
       "justify_content": null,
       "justify_items": null,
       "left": null,
       "margin": null,
       "max_height": null,
       "max_width": null,
       "min_height": null,
       "min_width": null,
       "object_fit": null,
       "object_position": null,
       "order": null,
       "overflow": null,
       "overflow_x": null,
       "overflow_y": null,
       "padding": null,
       "right": null,
       "top": null,
       "visibility": null,
       "width": null
      }
     },
     "fd7edc02afcc4f5fbeab7ba69d27fea6": {
      "model_module": "@jupyter-widgets/base",
      "model_module_version": "1.2.0",
      "model_name": "LayoutModel",
      "state": {
       "_model_module": "@jupyter-widgets/base",
       "_model_module_version": "1.2.0",
       "_model_name": "LayoutModel",
       "_view_count": null,
       "_view_module": "@jupyter-widgets/base",
       "_view_module_version": "1.2.0",
       "_view_name": "LayoutView",
       "align_content": null,
       "align_items": null,
       "align_self": null,
       "border": null,
       "bottom": null,
       "display": null,
       "flex": null,
       "flex_flow": null,
       "grid_area": null,
       "grid_auto_columns": null,
       "grid_auto_flow": null,
       "grid_auto_rows": null,
       "grid_column": null,
       "grid_gap": null,
       "grid_row": null,
       "grid_template_areas": null,
       "grid_template_columns": null,
       "grid_template_rows": null,
       "height": null,
       "justify_content": null,
       "justify_items": null,
       "left": null,
       "margin": null,
       "max_height": null,
       "max_width": null,
       "min_height": null,
       "min_width": null,
       "object_fit": null,
       "object_position": null,
       "order": null,
       "overflow": null,
       "overflow_x": null,
       "overflow_y": null,
       "padding": null,
       "right": null,
       "top": null,
       "visibility": null,
       "width": null
      }
     }
    },
    "version_major": 2,
    "version_minor": 0
   }
  }
 },
 "nbformat": 4,
 "nbformat_minor": 5
}
